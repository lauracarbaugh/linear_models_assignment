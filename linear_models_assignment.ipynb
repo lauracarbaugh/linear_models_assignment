{
  "nbformat": 4,
  "nbformat_minor": 0,
  "metadata": {
    "colab": {
      "provenance": [],
      "authorship_tag": "ABX9TyP+kQrHOvqcebu3yqfjRzLN",
      "include_colab_link": true
    },
    "kernelspec": {
      "name": "python3",
      "display_name": "Python 3"
    },
    "language_info": {
      "name": "python"
    }
  },
  "cells": [
    {
      "cell_type": "markdown",
      "metadata": {
        "id": "view-in-github",
        "colab_type": "text"
      },
      "source": [
        "<a href=\"https://colab.research.google.com/github/lauracarbaugh/linear_models_assignment/blob/main/linear_models_assignment.ipynb\" target=\"_parent\"><img src=\"https://colab.research.google.com/assets/colab-badge.svg\" alt=\"Open In Colab\"/></a>"
      ]
    },
    {
      "cell_type": "code",
      "source": [
        "# Question 1\n",
        "from google.colab import drive\n",
        "drive.mount(\"/content/drive\", force_remount=True)\n",
        "import os\n",
        "print(os.path.exists(\"/content/drive/My Drive/DS3001linearmodels.pdf\"))\n",
        "\n"
      ],
      "metadata": {
        "colab": {
          "base_uri": "https://localhost:8080/"
        },
        "id": "FE-ClKybfuqz",
        "outputId": "4026edd3-a7b7-4d4e-feb7-d1d82c863d3d"
      },
      "execution_count": 1,
      "outputs": [
        {
          "output_type": "stream",
          "name": "stdout",
          "text": [
            "Mounted at /content/drive\n",
            "True\n"
          ]
        }
      ]
    },
    {
      "cell_type": "code",
      "source": [
        "# Question 1\n",
        "from IPython.display import IFrame\n",
        "FILE_ID = \"DS3001linearmodels.pdf\"\n",
        "IFrame(src=f\"https://drive.google.com/file/d/1H6hWERkqMJ06t7UPwNX7UiEG-f1eN_06/view?usp=drive_link\", width=800, height=600)\n",
        "# answers found at the link"
      ],
      "metadata": {
        "colab": {
          "base_uri": "https://localhost:8080/",
          "height": 621
        },
        "id": "lXXSZDLggpil",
        "outputId": "98f4756d-6fba-40f2-a5c8-06249962fb13"
      },
      "execution_count": 3,
      "outputs": [
        {
          "output_type": "execute_result",
          "data": {
            "text/plain": [
              "<IPython.lib.display.IFrame at 0x784a74e37740>"
            ],
            "text/html": [
              "\n",
              "        <iframe\n",
              "            width=\"800\"\n",
              "            height=\"600\"\n",
              "            src=\"https://drive.google.com/file/d/1H6hWERkqMJ06t7UPwNX7UiEG-f1eN_06/view?usp=drive_link\"\n",
              "            frameborder=\"0\"\n",
              "            allowfullscreen\n",
              "            \n",
              "        ></iframe>\n",
              "        "
            ]
          },
          "metadata": {},
          "execution_count": 3
        }
      ]
    },
    {
      "cell_type": "code",
      "execution_count": 4,
      "metadata": {
        "colab": {
          "base_uri": "https://localhost:8080/"
        },
        "id": "2w5Nz1xXp4-s",
        "outputId": "1b9f11e9-1789-4768-e867-857bbbb396db"
      },
      "outputs": [
        {
          "output_type": "stream",
          "name": "stdout",
          "text": [
            "Cloning into 'linear_models_assignment'...\n",
            "remote: Enumerating objects: 9, done.\u001b[K\n",
            "remote: Counting objects: 100% (3/3), done.\u001b[K\n",
            "remote: Compressing objects: 100% (3/3), done.\u001b[K\n",
            "remote: Total 9 (delta 0), reused 0 (delta 0), pack-reused 6 (from 1)\u001b[K\n",
            "Receiving objects: 100% (9/9), 18.05 KiB | 9.02 MiB/s, done.\n"
          ]
        }
      ],
      "source": [
        "! git clone https://github.com/lauracarbaugh/linear_models_assignment.git"
      ]
    },
    {
      "cell_type": "code",
      "source": [
        "!git config --global user.name \"lauracarbaugh\"\n",
        "!git config --global user.email \"rnr7tu@virginia.edu\""
      ],
      "metadata": {
        "id": "DNMuQsvfsWIC"
      },
      "execution_count": 5,
      "outputs": []
    },
    {
      "cell_type": "code",
      "source": [
        "cd linear_models_assignment/"
      ],
      "metadata": {
        "colab": {
          "base_uri": "https://localhost:8080/"
        },
        "id": "ZDawwB73saTt",
        "outputId": "7771b46f-08ba-4949-8aeb-475c97e59997"
      },
      "execution_count": 6,
      "outputs": [
        {
          "output_type": "stream",
          "name": "stdout",
          "text": [
            "/content/linear_models_assignment\n"
          ]
        }
      ]
    },
    {
      "cell_type": "code",
      "source": [
        "cd data/"
      ],
      "metadata": {
        "colab": {
          "base_uri": "https://localhost:8080/"
        },
        "id": "ZFnn2v12ssRj",
        "outputId": "0fbbed9e-4b47-4302-a4ed-7a034da5cd93"
      },
      "execution_count": 7,
      "outputs": [
        {
          "output_type": "stream",
          "name": "stdout",
          "text": [
            "/content/linear_models_assignment/data\n"
          ]
        }
      ]
    },
    {
      "cell_type": "code",
      "source": [
        "import numpy as np\n",
        "import pandas as pd\n",
        "import matplotlib.pyplot as plt\n",
        "import seaborn as sns"
      ],
      "metadata": {
        "id": "ag1m7Zsys1g5"
      },
      "execution_count": 8,
      "outputs": []
    },
    {
      "cell_type": "code",
      "source": [
        "# Question 3.1\n",
        "heart = pd.read_csv('heart_hw.csv')\n",
        "heart.head()\n",
        "\n",
        "# calculate proportion of people who survive in the control group\n",
        "control = heart[heart['transplant'] == 'control']\n",
        "survive_control = control['y'].mean()\n",
        "\n",
        "# calc proportion of people who survive in the treatment group\n",
        "treatment_group = heart[heart['transplant'] == 'treatment']\n",
        "survive_treatment = treatment_group['y'].mean()\n",
        "\n",
        "# calc average treatment effect as difference in survival proportions\n",
        "diff_survival = survive_treatment - survive_control\n",
        "\n",
        "print(survive_control)\n",
        "print(survive_treatment)\n",
        "print(diff_survival)"
      ],
      "metadata": {
        "colab": {
          "base_uri": "https://localhost:8080/"
        },
        "id": "Ok1auxj1suDM",
        "outputId": "f2cf7f9c-e42c-4f07-b477-b092e8dd1d47"
      },
      "execution_count": 9,
      "outputs": [
        {
          "output_type": "stream",
          "name": "stdout",
          "text": [
            "0.11764705882352941\n",
            "0.34782608695652173\n",
            "0.23017902813299232\n"
          ]
        }
      ]
    },
    {
      "cell_type": "code",
      "source": [
        "# Question 3.2\n",
        "from sklearn.linear_model import LinearRegression\n",
        "\n",
        "# convert transplant to a binary indicator\n",
        "# control=0, treatment=1\n",
        "heart['transplant_binary'] = (heart['transplant'] == 'treatment').astype(int)\n",
        "\n",
        "# define independent var x with a constant/dependent y\n",
        "X = heart[['transplant_binary']]\n",
        "y = heart['y']\n",
        "\n",
        "# fit the linear regression model\n",
        "model = LinearRegression()\n",
        "model.fit(X, y)\n",
        "\n",
        "# make intercept and coefficient\n",
        "intercept = model.intercept_\n",
        "coef_transplant = model.coef_[0]\n",
        "\n",
        "print(intercept)\n",
        "print(coef_transplant)\n"
      ],
      "metadata": {
        "colab": {
          "base_uri": "https://localhost:8080/"
        },
        "id": "SUtRGp4LuiTm",
        "outputId": "4ab5ffe3-8d3d-4fab-acea-b17af3d40e9c"
      },
      "execution_count": 10,
      "outputs": [
        {
          "output_type": "stream",
          "name": "stdout",
          "text": [
            "0.1176470588235293\n",
            "0.23017902813299249\n"
          ]
        }
      ]
    },
    {
      "cell_type": "markdown",
      "source": [
        "Question 3.2: From the regression model, the intercept represents the average survival rate in the control group, which exactly matches with the proportion of survivors in the control group from Q3.1. The coefficient on transplant represents the difference in means between the treatment and controrl groups (the average treatment effect). This matches the difference in survival proportions from Q3.1."
      ],
      "metadata": {
        "id": "p7cCuBm8u5IG"
      }
    },
    {
      "cell_type": "code",
      "source": [
        "# Question 3.3\n",
        "X = heart[['transplant_binary', 'age']]\n",
        "y = heart['y']\n",
        "\n",
        "# create and fit the linear regression model\n",
        "model = LinearRegression()\n",
        "model.fit(X, y)\n",
        "\n",
        "# extract intercept and coefficients\n",
        "intercept = model.intercept_\n",
        "coef_transplant = model.coef_[0]\n",
        "coef_age = model.coef_[1]\n",
        "\n",
        "print(intercept)\n",
        "print(coef_transplant)\n",
        "print(coef_age)"
      ],
      "metadata": {
        "colab": {
          "base_uri": "https://localhost:8080/"
        },
        "id": "a0OPnVMUu6-r",
        "outputId": "6efa1b70-fcac-44d9-9a15-9b1c0f959937"
      },
      "execution_count": 11,
      "outputs": [
        {
          "output_type": "stream",
          "name": "stdout",
          "text": [
            "0.7019569721740947\n",
            "0.2647016865036751\n",
            "-0.013607217160218647\n"
          ]
        }
      ]
    },
    {
      "cell_type": "markdown",
      "source": [
        "Question 3.3: The intercept increased substantially from 0.118 to 0.702 when age was added to the model. This means that the intercept represents the predicted probability for a control group patient of age 0. The change in intercept means that it is now the predicted survival of a newborn patient rather than the average survival of all controls."
      ],
      "metadata": {
        "id": "M3U9nqJqvJ83"
      }
    },
    {
      "cell_type": "code",
      "source": [
        "# Question 3.4\n",
        "\n",
        "from sklearn.model_selection import train_test_split\n",
        "\n",
        "# create interaction and non-linear terms\n",
        "heart['age_squared'] = heart['age'] ** 2\n",
        "heart['interaction'] = heart['transplant_binary'] * heart['age']\n",
        "\n",
        "# define feature set with transplant, age, age sqd, interaction\n",
        "X = heart[['transplant_binary', 'age', 'age_squared', 'interaction']]\n",
        "y = heart['y']\n",
        "\n",
        "# split data into training (80%) and test (20%) sets\n",
        "X_train, X_test, y_train, y_test = train_test_split(X, y, test_size=0.2, random_state=42)\n",
        "\n",
        "# fit the linear regression model on the training set\n",
        "model = LinearRegression()\n",
        "model.fit(X_train, y_train)\n",
        "\n",
        "# predict survival probability over a range of ages for treatment and control\n",
        "ages = np.linspace(heart['age'].min(), heart['age'].max(), 100)\n",
        "treatment = 1\n",
        "control = 0\n",
        "\n",
        "# helper function to create design matrix for prediction\n",
        "def create_design_matrix(transplant_value):\n",
        "    age_sq = ages ** 2\n",
        "    interaction_term = transplant_value * ages\n",
        "    df_pred = np.column_stack((np.full_like(ages, transplant_value), ages, age_sq, interaction_term))\n",
        "    return df_pred\n",
        "\n",
        "X_pred_treatment = create_design_matrix(treatment)\n",
        "X_pred_control = create_design_matrix(control)\n",
        "\n",
        "# predict survival probabilities\n",
        "y_pred_treatment = model.predict(X_pred_treatment)\n",
        "y_pred_control = model.predict(X_pred_control)\n",
        "\n",
        "# plot results\n",
        "plt.figure(figsize=(10,6))\n",
        "plt.plot(ages, y_pred_control, label='Control')\n",
        "plt.plot(ages, y_pred_treatment, label='Treatment')\n",
        "plt.xlabel('Age')\n",
        "plt.ylabel('Predicted Survival Probability')\n",
        "plt.title('Predicted Survival Probability by Age and Transplant Status')\n",
        "plt.legend()\n",
        "plt.grid(True)\n",
        "plt.show()"
      ],
      "metadata": {
        "colab": {
          "base_uri": "https://localhost:8080/",
          "height": 655
        },
        "id": "jqz6lnUVvNPO",
        "outputId": "4a426e85-2ce1-4eb0-b1b2-c9468c48be81"
      },
      "execution_count": 12,
      "outputs": [
        {
          "output_type": "stream",
          "name": "stderr",
          "text": [
            "/usr/local/lib/python3.12/dist-packages/sklearn/utils/validation.py:2739: UserWarning: X does not have valid feature names, but LinearRegression was fitted with feature names\n",
            "  warnings.warn(\n",
            "/usr/local/lib/python3.12/dist-packages/sklearn/utils/validation.py:2739: UserWarning: X does not have valid feature names, but LinearRegression was fitted with feature names\n",
            "  warnings.warn(\n"
          ]
        },
        {
          "output_type": "display_data",
          "data": {
            "text/plain": [
              "<Figure size 1000x600 with 1 Axes>"
            ],
            "image/png": "[encoded data removed]"
          },
          "metadata": {}
        }
      ]
    },
    {
      "cell_type": "markdown",
      "source": [
        "Question 3.4: Based on the plot, Treatment shows higher survival prpobabilities overall than the Control group, which means that transplant recipients are expected to survive longer on average. Both lines decrease as age increases which makes sense given that older patients are less likely to survive. The curving nature indicates that the relationship between age and predicted survival probability is non-linear."
      ],
      "metadata": {
        "id": "HQcKBDfNvWSs"
      }
    },
    {
      "cell_type": "markdown",
      "source": [
        "Question 3.5: An issue that I would be concerned about is basing medical decisions solely on model suggestions. Using non-linear data can be hard to interpret for doctors and policymakers, which could create an issue in prioritizing the right people. Also, reducing medical profiles to a list of characteristics and a survival probability leaves people vulnerable to being de-prioritized. If the model is only trained on one hospital, this is not generalized to a broader population which can create issues with the application of the model and can lead to inaccurate predictions. Using medical data from patients can also contribute to privacy and security concerns."
      ],
      "metadata": {
        "id": "lpZ3mCeBvZNL"
      }
    }
  ]
}